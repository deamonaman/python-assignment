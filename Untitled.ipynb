{
 "cells": [
  {
   "cell_type": "code",
   "execution_count": 1,
   "id": "379e7c0f",
   "metadata": {},
   "outputs": [],
   "source": [
    "count=1\n",
    "count=count+1"
   ]
  },
  {
   "cell_type": "code",
   "execution_count": 2,
   "id": "4d117811",
   "metadata": {},
   "outputs": [
    {
     "data": {
      "text/plain": [
       "2"
      ]
     },
     "execution_count": 2,
     "metadata": {},
     "output_type": "execute_result"
    }
   ],
   "source": [
    "count\n"
   ]
  },
  {
   "cell_type": "code",
   "execution_count": 3,
   "id": "e27605d1",
   "metadata": {},
   "outputs": [
    {
     "ename": "SyntaxError",
     "evalue": "invalid syntax (2160100239.py, line 1)",
     "output_type": "error",
     "traceback": [
      "\u001b[1;36m  Cell \u001b[1;32mIn[3], line 1\u001b[1;36m\u001b[0m\n\u001b[1;33m    count++\u001b[0m\n\u001b[1;37m           ^\u001b[0m\n\u001b[1;31mSyntaxError\u001b[0m\u001b[1;31m:\u001b[0m invalid syntax\n"
     ]
    }
   ],
   "source": [
    "count++"
   ]
  },
  {
   "cell_type": "code",
   "execution_count": null,
   "id": "b49bf835",
   "metadata": {},
   "outputs": [],
   "source": [
    "a=10\n",
    "b=50\n",
    "print(a+b)"
   ]
  },
  {
   "cell_type": "code",
   "execution_count": null,
   "id": "0514161f",
   "metadata": {},
   "outputs": [],
   "source": [
    "print(a-b)"
   ]
  },
  {
   "cell_type": "code",
   "execution_count": null,
   "id": "795cd6dc",
   "metadata": {},
   "outputs": [],
   "source": [
    "print(a*b)"
   ]
  },
  {
   "cell_type": "code",
   "execution_count": null,
   "id": "6d47c50f",
   "metadata": {},
   "outputs": [],
   "source": [
    "print(a%b)"
   ]
  },
  {
   "cell_type": "code",
   "execution_count": null,
   "id": "fd4a2356",
   "metadata": {},
   "outputs": [],
   "source": [
    "print(a//b)"
   ]
  },
  {
   "cell_type": "code",
   "execution_count": null,
   "id": "2b3dc55e",
   "metadata": {},
   "outputs": [],
   "source": [
    "print(a**b)"
   ]
  },
  {
   "cell_type": "code",
   "execution_count": null,
   "id": "a499e430",
   "metadata": {},
   "outputs": [],
   "source": [
    "1+True"
   ]
  },
  {
   "cell_type": "code",
   "execution_count": null,
   "id": "35ee402a",
   "metadata": {},
   "outputs": [],
   "source": [
    "!5"
   ]
  },
  {
   "cell_type": "code",
   "execution_count": null,
   "id": "51784d08",
   "metadata": {},
   "outputs": [],
   "source": [
    "print(!5)"
   ]
  },
  {
   "cell_type": "code",
   "execution_count": null,
   "id": "0971497c",
   "metadata": {},
   "outputs": [],
   "source": [
    "~5"
   ]
  },
  {
   "cell_type": "code",
   "execution_count": null,
   "id": "61bc38fe",
   "metadata": {},
   "outputs": [],
   "source": [
    "5&3"
   ]
  },
  {
   "cell_type": "code",
   "execution_count": null,
   "id": "950aff7c",
   "metadata": {},
   "outputs": [],
   "source": [
    "255&200"
   ]
  },
  {
   "cell_type": "code",
   "execution_count": null,
   "id": "2a3a16a5",
   "metadata": {},
   "outputs": [],
   "source": [
    "5|3"
   ]
  },
  {
   "cell_type": "code",
   "execution_count": 4,
   "id": "83281991",
   "metadata": {},
   "outputs": [
    {
     "data": {
      "text/plain": [
       "1"
      ]
     },
     "execution_count": 4,
     "metadata": {},
     "output_type": "execute_result"
    }
   ],
   "source": [
    "5^4"
   ]
  },
  {
   "cell_type": "code",
   "execution_count": 5,
   "id": "5a677921",
   "metadata": {},
   "outputs": [],
   "source": [
    "a=5\n",
    "b=3\n",
    "a=a^b\n",
    "b=a^b\n",
    "a=a^b"
   ]
  },
  {
   "cell_type": "code",
   "execution_count": 6,
   "id": "407c01c8",
   "metadata": {},
   "outputs": [
    {
     "data": {
      "text/plain": [
       "3"
      ]
     },
     "execution_count": 6,
     "metadata": {},
     "output_type": "execute_result"
    }
   ],
   "source": [
    "a"
   ]
  },
  {
   "cell_type": "code",
   "execution_count": 7,
   "id": "7259e67a",
   "metadata": {},
   "outputs": [
    {
     "data": {
      "text/plain": [
       "5"
      ]
     },
     "execution_count": 7,
     "metadata": {},
     "output_type": "execute_result"
    }
   ],
   "source": [
    "b"
   ]
  },
  {
   "cell_type": "markdown",
   "id": "afe63e2d",
   "metadata": {},
   "source": []
  },
  {
   "cell_type": "code",
   "execution_count": 8,
   "id": "dc2fe76b",
   "metadata": {},
   "outputs": [
    {
     "data": {
      "text/plain": [
       "2"
      ]
     },
     "execution_count": 8,
     "metadata": {},
     "output_type": "execute_result"
    }
   ],
   "source": [
    "5>>1"
   ]
  },
  {
   "cell_type": "code",
   "execution_count": 9,
   "id": "8d6e15e2",
   "metadata": {},
   "outputs": [
    {
     "data": {
      "text/plain": [
       "32"
      ]
     },
     "execution_count": 9,
     "metadata": {},
     "output_type": "execute_result"
    }
   ],
   "source": [
    "1<<5"
   ]
  },
  {
   "cell_type": "code",
   "execution_count": 10,
   "id": "8497eb9c",
   "metadata": {},
   "outputs": [],
   "source": [
    "a=10\n",
    "b=10"
   ]
  },
  {
   "cell_type": "code",
   "execution_count": 11,
   "id": "6f616d48",
   "metadata": {},
   "outputs": [
    {
     "name": "stdout",
     "output_type": "stream",
     "text": [
      "True\n"
     ]
    }
   ],
   "source": [
    "print(a is b)"
   ]
  },
  {
   "cell_type": "code",
   "execution_count": 12,
   "id": "ff58b8e4",
   "metadata": {},
   "outputs": [
    {
     "name": "stdout",
     "output_type": "stream",
     "text": [
      "False\n"
     ]
    }
   ],
   "source": [
    "print(a is not b)"
   ]
  },
  {
   "cell_type": "code",
   "execution_count": 13,
   "id": "5bac3b65",
   "metadata": {},
   "outputs": [],
   "source": [
    "a=10\n",
    "a=+5"
   ]
  },
  {
   "cell_type": "code",
   "execution_count": 14,
   "id": "14441ae8",
   "metadata": {},
   "outputs": [
    {
     "data": {
      "text/plain": [
       "5"
      ]
     },
     "execution_count": 14,
     "metadata": {},
     "output_type": "execute_result"
    }
   ],
   "source": [
    "a"
   ]
  },
  {
   "cell_type": "code",
   "execution_count": 15,
   "id": "f26b220d",
   "metadata": {},
   "outputs": [],
   "source": [
    "a=-5"
   ]
  },
  {
   "cell_type": "code",
   "execution_count": 16,
   "id": "1914317d",
   "metadata": {},
   "outputs": [
    {
     "data": {
      "text/plain": [
       "-5"
      ]
     },
     "execution_count": 16,
     "metadata": {},
     "output_type": "execute_result"
    }
   ],
   "source": [
    "a"
   ]
  },
  {
   "cell_type": "code",
   "execution_count": 17,
   "id": "3afd752f",
   "metadata": {},
   "outputs": [],
   "source": [
    "a+=5"
   ]
  },
  {
   "cell_type": "code",
   "execution_count": 18,
   "id": "4995a2e6",
   "metadata": {},
   "outputs": [
    {
     "data": {
      "text/plain": [
       "0"
      ]
     },
     "execution_count": 18,
     "metadata": {},
     "output_type": "execute_result"
    }
   ],
   "source": [
    "a"
   ]
  },
  {
   "cell_type": "code",
   "execution_count": null,
   "id": "0e1f6ab6",
   "metadata": {},
   "outputs": [],
   "source": [
    "a=int(input(\"enter the number\"))\n",
    "if a%2==0:\n",
    "    print(\"no. is even\",a)\n",
    "else:\n",
    "    print(\"no.is odd\",a)"
   ]
  },
  {
   "cell_type": "code",
   "execution_count": null,
   "id": "5a8af12d",
   "metadata": {},
   "outputs": [],
   "source": [
    "x=1\n",
    "while x<=10:\n",
    " print(x)"
   ]
  },
  {
   "cell_type": "code",
   "execution_count": null,
   "id": "f5eb4a5b",
   "metadata": {},
   "outputs": [],
   "source": [
    "i=10\n",
    "complex(i)"
   ]
  },
  {
   "cell_type": "code",
   "execution_count": null,
   "id": "3a170819",
   "metadata": {},
   "outputs": [],
   "source": [
    "int(i)"
   ]
  },
  {
   "cell_type": "code",
   "execution_count": null,
   "id": "9ef11dfc",
   "metadata": {},
   "outputs": [],
   "source": [
    "a=10+5j\n",
    "int(a)"
   ]
  },
  {
   "cell_type": "code",
   "execution_count": null,
   "id": "c6a3643d",
   "metadata": {},
   "outputs": [],
   "source": [
    "a.real"
   ]
  },
  {
   "cell_type": "code",
   "execution_count": null,
   "id": "a99f976b",
   "metadata": {},
   "outputs": [],
   "source": [
    "a.imag"
   ]
  },
  {
   "cell_type": "code",
   "execution_count": null,
   "id": "10f607a4",
   "metadata": {},
   "outputs": [],
   "source": [
    "for i in range(100,-10,0):\n",
    "    print(i)"
   ]
  },
  {
   "cell_type": "code",
   "execution_count": null,
   "id": "45daf810",
   "metadata": {},
   "outputs": [],
   "source": [
    "for i in range(10,0,-2):\n",
    "    print(i)"
   ]
  },
  {
   "cell_type": "code",
   "execution_count": null,
   "id": "c12fd0d6",
   "metadata": {},
   "outputs": [],
   "source": [
    "for i in range(0,-10,-2):\n",
    "    print(i)"
   ]
  },
  {
   "cell_type": "code",
   "execution_count": null,
   "id": "d740602f",
   "metadata": {},
   "outputs": [],
   "source": [
    "for i in range(5):\n",
    "    for j in range(i+1):\n",
    "        print(\"*\",end=\"\")\n",
    "    print()"
   ]
  },
  {
   "cell_type": "code",
   "execution_count": null,
   "id": "43793651",
   "metadata": {},
   "outputs": [],
   "source": [
    "for i in range(5):\n",
    "    for j in range(i+1):\n",
    "        if j<=i:\n",
    "          print(\"*\",end=\"\")\n",
    "        else:\n",
    "            break\n",
    "    print()"
   ]
  },
  {
   "cell_type": "code",
   "execution_count": null,
   "id": "616b877e",
   "metadata": {},
   "outputs": [],
   "source": [
    "count=4\n",
    "for i in range(5):\n",
    "    for j in range(5):\n",
    "        if j>=count:\n",
    "           print(\"*\",end=\"\")\n",
    "        else:\n",
    "            print(\" \",end=\"\")\n",
    "    print()\n",
    "    count=count-1"
   ]
  },
  {
   "cell_type": "code",
   "execution_count": null,
   "id": "714e29b0",
   "metadata": {},
   "outputs": [],
   "source": [
    "count=4\n",
    "for i in range(5):\n",
    "    for j in range(5):\n",
    "        if j>=count:\n",
    "           print(\"*\",end=\"\")\n",
    "        else:\n",
    "            print(\" \",end=\"\")\n",
    "    for j in range(i):\n",
    "       print(\"*\",end=\"\")\n",
    "    print()\n",
    "    count=count-1"
   ]
  },
  {
   "cell_type": "code",
   "execution_count": null,
   "id": "233691f3",
   "metadata": {},
   "outputs": [],
   "source": [
    "a=input()"
   ]
  },
  {
   "cell_type": "code",
   "execution_count": null,
   "id": "c5a2fd7a",
   "metadata": {},
   "outputs": [],
   "source": [
    "f=open(C:\\Users\\RITS\\Desktop\\python notes.txt)\n",
    "print(f.read())\n",
    "f.close()"
   ]
  },
  {
   "cell_type": "code",
   "execution_count": null,
   "id": "d4de58fd",
   "metadata": {},
   "outputs": [],
   "source": [
    "print(dir(()))"
   ]
  },
  {
   "cell_type": "code",
   "execution_count": null,
   "id": "ce9345ab",
   "metadata": {},
   "outputs": [],
   "source": [
    "t={}\n",
    "type(t)"
   ]
  },
  {
   "cell_type": "code",
   "execution_count": null,
   "id": "3513cc27",
   "metadata": {},
   "outputs": [],
   "source": [
    "t=set()\n",
    "type(t)"
   ]
  },
  {
   "cell_type": "code",
   "execution_count": null,
   "id": "778bb809",
   "metadata": {},
   "outputs": [],
   "source": [
    "t=1,2"
   ]
  },
  {
   "cell_type": "code",
   "execution_count": null,
   "id": "d69066f4",
   "metadata": {},
   "outputs": [],
   "source": [
    "type(t)"
   ]
  },
  {
   "cell_type": "code",
   "execution_count": null,
   "id": "2e2e3fbf",
   "metadata": {},
   "outputs": [],
   "source": [
    "a,b=(1,2)"
   ]
  },
  {
   "cell_type": "code",
   "execution_count": null,
   "id": "bd9b2114",
   "metadata": {},
   "outputs": [],
   "source": [
    "a"
   ]
  },
  {
   "cell_type": "code",
   "execution_count": null,
   "id": "6c3920bb",
   "metadata": {},
   "outputs": [],
   "source": [
    "b"
   ]
  },
  {
   "cell_type": "code",
   "execution_count": null,
   "id": "4a2ca3b6",
   "metadata": {},
   "outputs": [],
   "source": [
    "name='''naman\n",
    "pooja\n",
    "rishi\n",
    "rahul'''"
   ]
  },
  {
   "cell_type": "code",
   "execution_count": null,
   "id": "d7ff010a",
   "metadata": {},
   "outputs": [],
   "source": [
    "name"
   ]
  },
  {
   "cell_type": "code",
   "execution_count": null,
   "id": "c4ce3f14",
   "metadata": {},
   "outputs": [],
   "source": [
    "s='this is'quote symbol'"
   ]
  },
  {
   "cell_type": "code",
   "execution_count": null,
   "id": "0681244a",
   "metadata": {},
   "outputs": [],
   "source": [
    "s='this is\\'quote symbol'"
   ]
  },
  {
   "cell_type": "code",
   "execution_count": null,
   "id": "2584dfc0",
   "metadata": {},
   "outputs": [],
   "source": [
    "s"
   ]
  },
  {
   "cell_type": "code",
   "execution_count": null,
   "id": "e9798309",
   "metadata": {},
   "outputs": [],
   "source": [
    "s=\"this is\\\"quote symbol\""
   ]
  },
  {
   "cell_type": "code",
   "execution_count": null,
   "id": "d8f220c5",
   "metadata": {},
   "outputs": [],
   "source": [
    "s"
   ]
  },
  {
   "cell_type": "code",
   "execution_count": null,
   "id": "7d83a4bb",
   "metadata": {},
   "outputs": [],
   "source": [
    "s='the \"python notes\"provided by \\'mohit sir\\' is helpful'\n",
    "s"
   ]
  },
  {
   "cell_type": "code",
   "execution_count": null,
   "id": "5e2a3de2",
   "metadata": {},
   "outputs": [],
   "source": [
    "s='the \"python notes\"provided by 'mohit sir' is helpful'\n",
    "s"
   ]
  },
  {
   "cell_type": "code",
   "execution_count": null,
   "id": "30918bc0",
   "metadata": {},
   "outputs": [],
   "source": [
    "s='''the \"python notes\"provided by 'mohit sir' is helpful'''\n",
    "s"
   ]
  },
  {
   "cell_type": "code",
   "execution_count": null,
   "id": "3911dbba",
   "metadata": {},
   "outputs": [],
   "source": [
    "s=\"pooja\"\n",
    "s[0]"
   ]
  },
  {
   "cell_type": "code",
   "execution_count": null,
   "id": "e7e51fcb",
   "metadata": {},
   "outputs": [],
   "source": [
    "s[-5]"
   ]
  },
  {
   "cell_type": "code",
   "execution_count": null,
   "id": "99599659",
   "metadata": {},
   "outputs": [],
   "source": [
    "s[10]"
   ]
  },
  {
   "cell_type": "code",
   "execution_count": null,
   "id": "8dad8352",
   "metadata": {},
   "outputs": [],
   "source": [
    "s[-100]"
   ]
  },
  {
   "cell_type": "code",
   "execution_count": null,
   "id": "b28741d5",
   "metadata": {},
   "outputs": [],
   "source": [
    "s=\"rahul kajla\"\n",
    "s"
   ]
  },
  {
   "cell_type": "code",
   "execution_count": null,
   "id": "f76fc2da",
   "metadata": {},
   "outputs": [],
   "source": [
    "s[6:]"
   ]
  },
  {
   "cell_type": "code",
   "execution_count": null,
   "id": "63e78f15",
   "metadata": {},
   "outputs": [],
   "source": [
    "s[::-1]"
   ]
  },
  {
   "cell_type": "code",
   "execution_count": null,
   "id": "b3e73525",
   "metadata": {},
   "outputs": [],
   "source": [
    "s[0:10:2]"
   ]
  },
  {
   "cell_type": "code",
   "execution_count": null,
   "id": "595353a0",
   "metadata": {},
   "outputs": [],
   "source": [
    "s[0::]"
   ]
  },
  {
   "cell_type": "code",
   "execution_count": null,
   "id": "8f70a1ea",
   "metadata": {},
   "outputs": [],
   "source": [
    "s[:0:]"
   ]
  },
  {
   "cell_type": "code",
   "execution_count": null,
   "id": "c8ed5209",
   "metadata": {},
   "outputs": [],
   "source": [
    "s[::0]"
   ]
  },
  {
   "cell_type": "code",
   "execution_count": null,
   "id": "93231b87",
   "metadata": {},
   "outputs": [],
   "source": [
    "s[0:10:1]"
   ]
  },
  {
   "cell_type": "code",
   "execution_count": null,
   "id": "a366cc6d",
   "metadata": {},
   "outputs": [],
   "source": [
    "s[10]"
   ]
  },
  {
   "cell_type": "code",
   "execution_count": null,
   "id": "f3b2efe3",
   "metadata": {},
   "outputs": [],
   "source": [
    "s[1:12:3]"
   ]
  },
  {
   "cell_type": "code",
   "execution_count": null,
   "id": "2b931e31",
   "metadata": {},
   "outputs": [],
   "source": [
    "s[:1000:1]"
   ]
  },
  {
   "cell_type": "code",
   "execution_count": null,
   "id": "d960a44b",
   "metadata": {},
   "outputs": [],
   "source": [
    "s[1000::]"
   ]
  },
  {
   "cell_type": "code",
   "execution_count": null,
   "id": "901b4bb6",
   "metadata": {},
   "outputs": [],
   "source": [
    "s[::1000]"
   ]
  },
  {
   "cell_type": "code",
   "execution_count": null,
   "id": "500747ae",
   "metadata": {},
   "outputs": [],
   "source": [
    "s=\"naman\"\n",
    "for i in s:\n",
    "  print(i)"
   ]
  },
  {
   "cell_type": "code",
   "execution_count": null,
   "id": "60d3928d",
   "metadata": {},
   "outputs": [],
   "source": [
    "a=\"don\"\n",
    "b=\"naman\"\n",
    "c=a+b"
   ]
  },
  {
   "cell_type": "code",
   "execution_count": null,
   "id": "85ddbc8f",
   "metadata": {},
   "outputs": [],
   "source": [
    "c"
   ]
  },
  {
   "cell_type": "code",
   "execution_count": null,
   "id": "988f4fae",
   "metadata": {},
   "outputs": [],
   "source": [
    "d=a-b"
   ]
  },
  {
   "cell_type": "code",
   "execution_count": null,
   "id": "5597b590",
   "metadata": {},
   "outputs": [],
   "source": [
    "e=a*5\n",
    "e"
   ]
  },
  {
   "cell_type": "code",
   "execution_count": null,
   "id": "81251604",
   "metadata": {},
   "outputs": [],
   "source": [
    "f=a/b\n",
    "f"
   ]
  },
  {
   "cell_type": "code",
   "execution_count": null,
   "id": "d80abb94",
   "metadata": {},
   "outputs": [],
   "source": [
    "f=a**2"
   ]
  },
  {
   "cell_type": "code",
   "execution_count": null,
   "id": "7dfc10ec",
   "metadata": {},
   "outputs": [],
   "source": [
    "len(a)"
   ]
  },
  {
   "cell_type": "code",
   "execution_count": null,
   "id": "94f45bc1",
   "metadata": {},
   "outputs": [],
   "source": [
    "s=\"naman\"\n",
    "for i in s:\n",
    "    print(i)"
   ]
  },
  {
   "cell_type": "code",
   "execution_count": null,
   "id": "229890ae",
   "metadata": {},
   "outputs": [],
   "source": [
    "s=\"kumawat\"\n",
    "for i in s[::-1]:\n",
    "    print(i)"
   ]
  },
  {
   "cell_type": "code",
   "execution_count": null,
   "id": "77e1bc50",
   "metadata": {},
   "outputs": [],
   "source": [
    "s=\"don naman\"\n",
    "i=0\n",
    "n=len(s)\n",
    "while(i<n):\n",
    "    print(s)\n",
    "i=i+1"
   ]
  },
  {
   "cell_type": "code",
   "execution_count": null,
   "id": "c807ad9e",
   "metadata": {},
   "outputs": [],
   "source": [
    "s=\"don naman\"\n",
    "i=0\n",
    "n=len(s)\n",
    "while(i<n):\n",
    "    print(s)\n",
    "    i=i+1"
   ]
  },
  {
   "cell_type": "code",
   "execution_count": null,
   "id": "e9874d83",
   "metadata": {},
   "outputs": [],
   "source": [
    "s=\"don naman\"\n",
    "i=0\n",
    "n=len(s)\n",
    "while(i<n):\n",
    "    print(s)\n",
    "    i=i+1"
   ]
  },
  {
   "cell_type": "code",
   "execution_count": null,
   "id": "1d683385",
   "metadata": {},
   "outputs": [],
   "source": [
    "s=\"don naman\"\n",
    "i=0\n",
    "n=len(s)\n",
    "while(i<n):\n",
    "    print(s)\n",
    "    i=i+1"
   ]
  },
  {
   "cell_type": "code",
   "execution_count": null,
   "id": "09b9871a",
   "metadata": {},
   "outputs": [],
   "source": []
  }
 ],
 "metadata": {
  "kernelspec": {
   "display_name": "Python 3 (ipykernel)",
   "language": "python",
   "name": "python3"
  },
  "language_info": {
   "codemirror_mode": {
    "name": "ipython",
    "version": 3
   },
   "file_extension": ".py",
   "mimetype": "text/x-python",
   "name": "python",
   "nbconvert_exporter": "python",
   "pygments_lexer": "ipython3",
   "version": "3.11.5"
  }
 },
 "nbformat": 4,
 "nbformat_minor": 5
}
